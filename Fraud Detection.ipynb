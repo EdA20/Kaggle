{
 "cells": [
  {
   "cell_type": "code",
   "execution_count": 85,
   "metadata": {
    "id": "4lHm_u8pTgAW"
   },
   "outputs": [],
   "source": [
    "import lightgbm as lgb\n",
    "import matplotlib.pyplot as plt\n",
    "import numpy as np\n",
    "import os\n",
    "from sklearn.model_selection import KFold\n",
    "import pandas as pd\n",
    "import seaborn as sns\n",
    "from sklearn.metrics import roc_auc_score\n",
    "from sklearn.preprocessing import LabelEncoder, StandardScaler\n",
    "from tqdm import tqdm\n",
    "from sklearn.model_selection import cross_val_score\n",
    "from sklearn.svm import SVC\n",
    "sns.set()\n",
    "import optuna\n",
    "from imblearn.over_sampling import SMOTE\n",
    "import timeit\n",
    "\n",
    "%matplotlib inline"
   ]
  },
  {
   "cell_type": "markdown",
   "metadata": {},
   "source": [
    "Большая часть ноутбука повторяет бейзлайн"
   ]
  },
  {
   "cell_type": "code",
   "execution_count": 3,
   "metadata": {
    "id": "gm9LsUSGTiQF"
   },
   "outputs": [],
   "source": [
    "def reduce_mem_usage(df):\n",
    "    NAlist = [] # Keeps track of columns that have missing values filled in. \n",
    "    for col in tqdm(df.columns):\n",
    "        if df[col].dtype != object:  # Exclude strings\n",
    "\n",
    "            # make variables for Int, max and min\n",
    "            IsInt = False\n",
    "            col_max_value = df[col].max()\n",
    "            col_min_value = df[col].min()\n",
    "\n",
    "            # Integer does not support NA, therefore, NA needs to be filled\n",
    "            if not np.isfinite(df[col]).all(): \n",
    "                NAlist.append(col)\n",
    "                df[col].fillna(col_min_value - 1, inplace=True)\n",
    "\n",
    "            # test if column can be converted to an integer\n",
    "            col_as_int = df[col].fillna(0).astype(np.int64)\n",
    "            diff = (df[col] - col_as_int)\n",
    "            diff = diff.sum()\n",
    "            if np.abs(diff) < 0.01:\n",
    "                IsInt = True\n",
    "\n",
    "            # Make Integer/unsigned Integer datatypes\n",
    "            if IsInt:\n",
    "                if col_min_value >= 0:\n",
    "                    if col_max_value < 255:\n",
    "                        df[col] = df[col].astype(np.uint8)\n",
    "                    elif col_max_value < 65535:\n",
    "                        df[col] = df[col].astype(np.uint16)\n",
    "                    elif col_max_value < 4294967295:\n",
    "                        df[col] = df[col].astype(np.uint32)\n",
    "                    else:\n",
    "                        df[col] = df[col].astype(np.uint64)\n",
    "                else:\n",
    "                    if col_min_value > np.iinfo(np.int8).min and col_max_value < np.iinfo(np.int8).max:\n",
    "                        df[col] = df[col].astype(np.int8)\n",
    "                    elif col_min_value > np.iinfo(np.int16).min and col_max_value < np.iinfo(np.int16).max:\n",
    "                        df[col] = df[col].astype(np.int16)\n",
    "                    elif col_min_value > np.iinfo(np.int32).min and col_max_value < np.iinfo(np.int32).max:\n",
    "                        df[col] = df[col].astype(np.int32)\n",
    "                    elif col_min_value > np.iinfo(np.int64).min and col_max_value < np.iinfo(np.int64).max:\n",
    "                        df[col] = df[col].astype(np.int64)    \n",
    "\n",
    "            # Make float datatypes 32 bit\n",
    "            else:\n",
    "                df[col] = df[col].astype(np.float32)\n",
    "\n",
    "    return df, NAlist"
   ]
  },
  {
   "cell_type": "code",
   "execution_count": 4,
   "metadata": {
    "colab": {
     "base_uri": "https://localhost:8080/",
     "height": 51
    },
    "id": "_dua9rPETjZm",
    "outputId": "f3cccb19-5b67-4d1c-a87f-bb487bbd2f20",
    "scrolled": true
   },
   "outputs": [
    {
     "name": "stderr",
     "output_type": "stream",
     "text": [
      "100%|████████████████████████████████████████████████████████████████████████████████| 434/434 [00:54<00:00,  7.96it/s]\n",
      "100%|████████████████████████████████████████████████████████████████████████████████| 433/433 [00:21<00:00, 19.98it/s]\n"
     ]
    }
   ],
   "source": [
    "train_transaction = pd.read_csv('train_transaction.csv')\n",
    "train_identity = pd.read_csv('train_identity.csv')\n",
    "test_transaction = pd.read_csv('test_transaction.csv')\n",
    "test_identity = pd.read_csv('test_identity.csv')\n",
    "\n",
    "df_train = train_transaction.merge(train_identity, how='left', on='TransactionID')\n",
    "del train_transaction, train_identity\n",
    "df_train, df_train_NAlist = reduce_mem_usage(df_train)\n",
    "\n",
    "df_test = test_transaction.merge(test_identity, how='left', on='TransactionID')\n",
    "del test_transaction, test_identity\n",
    "df_test, df_test_NAlist = reduce_mem_usage(df_test)"
   ]
  },
  {
   "cell_type": "markdown",
   "metadata": {
    "id": "mOQVKOz5Tu-G"
   },
   "source": [
    "Для того, чтобы улучшать качество предсказаний, можно не только менять модели и подбирать их гиперпараметры, но и модифицировать выборку. Это можно делать разными техниками - преобразования признаков, их отбор, извлечение новых и т.п. Это может помочь в силу того, что модель иногда не способна увидеть закономерности, скрытые внутри признаков, в отличие от человека, который может выделить их вручную. Подобные операции даже могут привести к появлению так называемых \"magic features\": их добавление к выборке может дать сильный прирост в качестве. Пример: [magic features от золотого призера одного из соревнований](https://www.kaggle.com/jturkewitz/magic-features-0-03-gain).\n",
    "\n",
    "Посмотрим на распределение значений числового признака `'TransactionAmt'` в обучающей выборке:"
   ]
  },
  {
   "cell_type": "code",
   "execution_count": 5,
   "metadata": {
    "colab": {
     "base_uri": "https://localhost:8080/",
     "height": 506
    },
    "id": "-SIcjRnVTkw9",
    "outputId": "d6c5521f-f6d1-45c2-b709-c5c6498d14ae",
    "scrolled": true
   },
   "outputs": [
    {
     "name": "stderr",
     "output_type": "stream",
     "text": [
      "D:\\anaconda3\\lib\\site-packages\\seaborn\\distributions.py:2619: FutureWarning: `distplot` is a deprecated function and will be removed in a future version. Please adapt your code to use either `displot` (a figure-level function with similar flexibility) or `histplot` (an axes-level function for histograms).\n",
      "  warnings.warn(msg, FutureWarning)\n"
     ]
    },
    {
     "data": {
      "image/png": "[encoded data removed]",
      "text/plain": [
       "<Figure size 792x576 with 1 Axes>"
      ]
     },
     "metadata": {
      "needs_background": "light"
     },
     "output_type": "display_data"
    }
   ],
   "source": [
    "plt.figure(figsize=(11, 8))\n",
    "sns.distplot(df_train['TransactionAmt'])\n",
    "plt.show()"
   ]
  },
  {
   "cell_type": "markdown",
   "metadata": {
    "id": "wkpFCwuwT4c9"
   },
   "source": [
    "Как видно, распределение очень сильно смещено. Прологарифмируем признак и добавим результат в данные как новый:"
   ]
  },
  {
   "cell_type": "code",
   "execution_count": 6,
   "metadata": {
    "id": "yVkPAjA_T2im"
   },
   "outputs": [
    {
     "name": "stderr",
     "output_type": "stream",
     "text": [
      "C:\\Users\\DDBD~1\\AppData\\Local\\Temp/ipykernel_9948/3186552309.py:1: PerformanceWarning: DataFrame is highly fragmented.  This is usually the result of calling `frame.insert` many times, which has poor performance.  Consider joining all columns at once using pd.concat(axis=1) instead.  To get a de-fragmented frame, use `newframe = frame.copy()`\n",
      "  df_train['TransactionAmt_log'] = np.log1p(df_train['TransactionAmt'])\n",
      "C:\\Users\\DDBD~1\\AppData\\Local\\Temp/ipykernel_9948/3186552309.py:2: PerformanceWarning: DataFrame is highly fragmented.  This is usually the result of calling `frame.insert` many times, which has poor performance.  Consider joining all columns at once using pd.concat(axis=1) instead.  To get a de-fragmented frame, use `newframe = frame.copy()`\n",
      "  df_test['TransactionAmt_log'] = np.log1p(df_test['TransactionAmt'])\n"
     ]
    }
   ],
   "source": [
    "df_train['TransactionAmt_log'] = np.log1p(df_train['TransactionAmt'])\n",
    "df_test['TransactionAmt_log'] = np.log1p(df_test['TransactionAmt'])"
   ]
  },
  {
   "cell_type": "code",
   "execution_count": 7,
   "metadata": {
    "colab": {
     "base_uri": "https://localhost:8080/",
     "height": 502
    },
    "id": "-TX6bwf_T6y1",
    "outputId": "68083de8-68fe-4ad0-e9c5-659c4314e3f3"
   },
   "outputs": [
    {
     "name": "stderr",
     "output_type": "stream",
     "text": [
      "D:\\anaconda3\\lib\\site-packages\\seaborn\\distributions.py:2619: FutureWarning: `distplot` is a deprecated function and will be removed in a future version. Please adapt your code to use either `displot` (a figure-level function with similar flexibility) or `histplot` (an axes-level function for histograms).\n",
      "  warnings.warn(msg, FutureWarning)\n"
     ]
    },
    {
     "data": {
      "image/png": "[encoded data removed]",
      "text/plain": [
       "<Figure size 792x576 with 1 Axes>"
      ]
     },
     "metadata": {
      "needs_background": "light"
     },
     "output_type": "display_data"
    }
   ],
   "source": [
    "plt.figure(figsize=(11, 8))\n",
    "sns.distplot(df_train['TransactionAmt_log'])\n",
    "plt.show()"
   ]
  },
  {
   "cell_type": "markdown",
   "metadata": {
    "id": "nUCKkooXT9JV"
   },
   "source": [
    "Итак, распределение мы выровняли.\n",
    "\n",
    "Заметим, что отнюдь не все суммы транзакций (в долларах) - целочисленные:"
   ]
  },
  {
   "cell_type": "code",
   "execution_count": 8,
   "metadata": {
    "colab": {
     "base_uri": "https://localhost:8080/",
     "height": 612
    },
    "id": "WOXwyCjhT7gi",
    "outputId": "f4b56946-1e0e-4cd6-9415-14094d6f5b4c"
   },
   "outputs": [
    {
     "data": {
      "text/plain": [
       "59.000000     20509\n",
       "117.000000    19544\n",
       "100.000000    16685\n",
       "107.949997    15869\n",
       "57.950001     15615\n",
       "50.000000     14270\n",
       "49.000000     10725\n",
       "226.000000     7966\n",
       "39.000000      7490\n",
       "29.000000      7177\n",
       "150.000000     6700\n",
       "47.950001      6448\n",
       "25.000000      6166\n",
       "35.950001      5888\n",
       "171.000000     5245\n",
       "34.000000      5209\n",
       "200.000000     5183\n",
       "30.950001      5082\n",
       "77.000000      4974\n",
       "25.950001      4905\n",
       "75.000000      4109\n",
       "209.949997     4099\n",
       "335.000000     3900\n",
       "67.949997      3533\n",
       "159.949997     3176\n",
       "97.000000      3163\n",
       "92.000000      2887\n",
       "30.000000      2842\n",
       "250.000000     2781\n",
       "58.950001      2455\n",
       "40.000000      2412\n",
       "108.500000     2316\n",
       "108.949997     2288\n",
       "15.000000      2200\n",
       "Name: TransactionAmt, dtype: int64"
      ]
     },
     "execution_count": 8,
     "metadata": {},
     "output_type": "execute_result"
    }
   ],
   "source": [
    "df_train['TransactionAmt'].value_counts()[:15]"
   ]
  },
  {
   "cell_type": "markdown",
   "metadata": {
    "id": "zlVqGnfST_8l"
   },
   "source": [
    "Это означает, что можно рассмотреть признак \"количество центов\" (вдруг мошенничество чаще совершается в случае \"нецелых\" транзакций?). Добавим его в данные и построим два его распределения: для мошеннических и обычных транзакций."
   ]
  },
  {
   "cell_type": "code",
   "execution_count": 9,
   "metadata": {
    "colab": {
     "base_uri": "https://localhost:8080/",
     "height": 502
    },
    "id": "sMdk-OOpT-jV",
    "outputId": "06105c0e-cbb5-49f9-8fd6-1e46789e9e53"
   },
   "outputs": [
    {
     "name": "stderr",
     "output_type": "stream",
     "text": [
      "C:\\Users\\DDBD~1\\AppData\\Local\\Temp/ipykernel_9948/2527920163.py:1: PerformanceWarning: DataFrame is highly fragmented.  This is usually the result of calling `frame.insert` many times, which has poor performance.  Consider joining all columns at once using pd.concat(axis=1) instead.  To get a de-fragmented frame, use `newframe = frame.copy()`\n",
      "  df_train['TransactionAmt_Cents'] = np.modf(df_train['TransactionAmt'])[0] * 100\n",
      "C:\\Users\\DDBD~1\\AppData\\Local\\Temp/ipykernel_9948/2527920163.py:2: PerformanceWarning: DataFrame is highly fragmented.  This is usually the result of calling `frame.insert` many times, which has poor performance.  Consider joining all columns at once using pd.concat(axis=1) instead.  To get a de-fragmented frame, use `newframe = frame.copy()`\n",
      "  df_test['TransactionAmt_Cents'] = np.modf(df_test['TransactionAmt'])[0] * 100\n",
      "D:\\anaconda3\\lib\\site-packages\\seaborn\\distributions.py:2619: FutureWarning: `distplot` is a deprecated function and will be removed in a future version. Please adapt your code to use either `displot` (a figure-level function with similar flexibility) or `histplot` (an axes-level function for histograms).\n",
      "  warnings.warn(msg, FutureWarning)\n",
      "D:\\anaconda3\\lib\\site-packages\\seaborn\\distributions.py:2619: FutureWarning: `distplot` is a deprecated function and will be removed in a future version. Please adapt your code to use either `displot` (a figure-level function with similar flexibility) or `histplot` (an axes-level function for histograms).\n",
      "  warnings.warn(msg, FutureWarning)\n"
     ]
    },
    {
     "data": {
      "image/png": "[encoded data removed]",
      "text/plain": [
       "<Figure size 792x576 with 1 Axes>"
      ]
     },
     "metadata": {
      "needs_background": "light"
     },
     "output_type": "display_data"
    }
   ],
   "source": [
    "df_train['TransactionAmt_Cents'] = np.modf(df_train['TransactionAmt'])[0] * 100\n",
    "df_test['TransactionAmt_Cents'] = np.modf(df_test['TransactionAmt'])[0] * 100\n",
    "\n",
    "plt.figure(figsize=(11, 8))\n",
    "sns.distplot(df_train[df_train['isFraud'] == 0]['TransactionAmt_Cents'], label='isFraud 0')\n",
    "sns.distplot(df_train[df_train['isFraud'] == 1]['TransactionAmt_Cents'], label='isFraud 1')\n",
    "plt.legend(loc='best')\n",
    "plt.show()"
   ]
  },
  {
   "cell_type": "markdown",
   "metadata": {
    "id": "ArbES7uoUCg9"
   },
   "source": [
    "Из имеющихся признаков можно извлекать новые. Многие признаки анонимизированы, однако есть достаточно понятные - скажем, почта или OS устройства, с которого совершалась транзакция. Извлечем новый признак - окончание почты, который может нести в себе какую-нибудь информацию - например, информацию о стране (если название домена заканчивается на `.fr`)."
   ]
  },
  {
   "cell_type": "code",
   "execution_count": 10,
   "metadata": {
    "colab": {
     "base_uri": "https://localhost:8080/",
     "height": 359
    },
    "id": "LE2lcmOsUBGV",
    "outputId": "6ca36654-b04b-4f2f-c7d6-aceeb45dc72a"
   },
   "outputs": [
    {
     "name": "stderr",
     "output_type": "stream",
     "text": [
      "C:\\Users\\DDBD~1\\AppData\\Local\\Temp/ipykernel_9948/2111850522.py:3: PerformanceWarning: DataFrame is highly fragmented.  This is usually the result of calling `frame.insert` many times, which has poor performance.  Consider joining all columns at once using pd.concat(axis=1) instead.  To get a de-fragmented frame, use `newframe = frame.copy()`\n",
      "  df_test[col + '_suffix'] = df_test[col].map(lambda x: str(x).split('.')[-1])\n"
     ]
    },
    {
     "data": {
      "text/html": [
       "<div>\n",
       "<style scoped>\n",
       "    .dataframe tbody tr th:only-of-type {\n",
       "        vertical-align: middle;\n",
       "    }\n",
       "\n",
       "    .dataframe tbody tr th {\n",
       "        vertical-align: top;\n",
       "    }\n",
       "\n",
       "    .dataframe thead th {\n",
       "        text-align: right;\n",
       "    }\n",
       "</style>\n",
       "<table border=\"1\" class=\"dataframe\">\n",
       "  <thead>\n",
       "    <tr style=\"text-align: right;\">\n",
       "      <th></th>\n",
       "      <th>P_emaildomain</th>\n",
       "      <th>P_emaildomain_suffix</th>\n",
       "      <th>R_emaildomain</th>\n",
       "      <th>R_emaildomain_suffix</th>\n",
       "    </tr>\n",
       "  </thead>\n",
       "  <tbody>\n",
       "    <tr>\n",
       "      <th>417549</th>\n",
       "      <td>gmail.com</td>\n",
       "      <td>com</td>\n",
       "      <td>NaN</td>\n",
       "      <td>nan</td>\n",
       "    </tr>\n",
       "    <tr>\n",
       "      <th>417550</th>\n",
       "      <td>gmail.com</td>\n",
       "      <td>com</td>\n",
       "      <td>NaN</td>\n",
       "      <td>nan</td>\n",
       "    </tr>\n",
       "    <tr>\n",
       "      <th>417551</th>\n",
       "      <td>att.net</td>\n",
       "      <td>net</td>\n",
       "      <td>NaN</td>\n",
       "      <td>nan</td>\n",
       "    </tr>\n",
       "    <tr>\n",
       "      <th>417552</th>\n",
       "      <td>anonymous.com</td>\n",
       "      <td>com</td>\n",
       "      <td>NaN</td>\n",
       "      <td>nan</td>\n",
       "    </tr>\n",
       "    <tr>\n",
       "      <th>417553</th>\n",
       "      <td>yahoo.com</td>\n",
       "      <td>com</td>\n",
       "      <td>NaN</td>\n",
       "      <td>nan</td>\n",
       "    </tr>\n",
       "    <tr>\n",
       "      <th>417554</th>\n",
       "      <td>gmail.com</td>\n",
       "      <td>com</td>\n",
       "      <td>NaN</td>\n",
       "      <td>nan</td>\n",
       "    </tr>\n",
       "    <tr>\n",
       "      <th>417555</th>\n",
       "      <td>gmail.com</td>\n",
       "      <td>com</td>\n",
       "      <td>NaN</td>\n",
       "      <td>nan</td>\n",
       "    </tr>\n",
       "    <tr>\n",
       "      <th>417556</th>\n",
       "      <td>hotmail.com</td>\n",
       "      <td>com</td>\n",
       "      <td>hotmail.com</td>\n",
       "      <td>com</td>\n",
       "    </tr>\n",
       "    <tr>\n",
       "      <th>417557</th>\n",
       "      <td>gmail.com</td>\n",
       "      <td>com</td>\n",
       "      <td>NaN</td>\n",
       "      <td>nan</td>\n",
       "    </tr>\n",
       "    <tr>\n",
       "      <th>417558</th>\n",
       "      <td>gmail.com</td>\n",
       "      <td>com</td>\n",
       "      <td>NaN</td>\n",
       "      <td>nan</td>\n",
       "    </tr>\n",
       "  </tbody>\n",
       "</table>\n",
       "</div>"
      ],
      "text/plain": [
       "        P_emaildomain P_emaildomain_suffix R_emaildomain R_emaildomain_suffix\n",
       "417549      gmail.com                  com           NaN                  nan\n",
       "417550      gmail.com                  com           NaN                  nan\n",
       "417551        att.net                  net           NaN                  nan\n",
       "417552  anonymous.com                  com           NaN                  nan\n",
       "417553      yahoo.com                  com           NaN                  nan\n",
       "417554      gmail.com                  com           NaN                  nan\n",
       "417555      gmail.com                  com           NaN                  nan\n",
       "417556    hotmail.com                  com   hotmail.com                  com\n",
       "417557      gmail.com                  com           NaN                  nan\n",
       "417558      gmail.com                  com           NaN                  nan"
      ]
     },
     "execution_count": 10,
     "metadata": {},
     "output_type": "execute_result"
    }
   ],
   "source": [
    "for col in ['P_emaildomain', 'R_emaildomain']:\n",
    "    df_train[col + '_suffix'] = df_train[col].map(lambda x: str(x).split('.')[-1])\n",
    "    df_test[col + '_suffix'] = df_test[col].map(lambda x: str(x).split('.')[-1])\n",
    "\n",
    "df_train[['P_emaildomain', 'P_emaildomain_suffix', 'R_emaildomain', 'R_emaildomain_suffix']].tail(10)"
   ]
  },
  {
   "cell_type": "markdown",
   "metadata": {
    "id": "aIbpg9_sUF1d"
   },
   "source": [
    "Новые признаки можно извлекать на основании сочетаний некоторых имеющихся. Например, добавим в данные признак, отвечающий за то, совпадают ли домены покупателя и получателя - вдруг это что-то даст."
   ]
  },
  {
   "cell_type": "code",
   "execution_count": 11,
   "metadata": {
    "colab": {
     "base_uri": "https://localhost:8080/",
     "height": 204
    },
    "id": "w81ZF7EWUEb2",
    "outputId": "e9e9f2ef-3a81-4cfd-b7af-b23238d3be0c"
   },
   "outputs": [
    {
     "name": "stderr",
     "output_type": "stream",
     "text": [
      "C:\\Users\\DDBD~1\\AppData\\Local\\Temp/ipykernel_9948/3985228817.py:2: PerformanceWarning: DataFrame is highly fragmented.  This is usually the result of calling `frame.insert` many times, which has poor performance.  Consider joining all columns at once using pd.concat(axis=1) instead.  To get a de-fragmented frame, use `newframe = frame.copy()`\n",
      "  df_test['same_emaildomain'] = (df_test['P_emaildomain'] == df_test['R_emaildomain']).astype('uint8')\n"
     ]
    },
    {
     "data": {
      "text/html": [
       "<div>\n",
       "<style scoped>\n",
       "    .dataframe tbody tr th:only-of-type {\n",
       "        vertical-align: middle;\n",
       "    }\n",
       "\n",
       "    .dataframe tbody tr th {\n",
       "        vertical-align: top;\n",
       "    }\n",
       "\n",
       "    .dataframe thead th {\n",
       "        text-align: right;\n",
       "    }\n",
       "</style>\n",
       "<table border=\"1\" class=\"dataframe\">\n",
       "  <thead>\n",
       "    <tr style=\"text-align: right;\">\n",
       "      <th></th>\n",
       "      <th>P_emaildomain</th>\n",
       "      <th>R_emaildomain</th>\n",
       "      <th>same_emaildomain</th>\n",
       "    </tr>\n",
       "  </thead>\n",
       "  <tbody>\n",
       "    <tr>\n",
       "      <th>417554</th>\n",
       "      <td>gmail.com</td>\n",
       "      <td>NaN</td>\n",
       "      <td>0</td>\n",
       "    </tr>\n",
       "    <tr>\n",
       "      <th>417555</th>\n",
       "      <td>gmail.com</td>\n",
       "      <td>NaN</td>\n",
       "      <td>0</td>\n",
       "    </tr>\n",
       "    <tr>\n",
       "      <th>417556</th>\n",
       "      <td>hotmail.com</td>\n",
       "      <td>hotmail.com</td>\n",
       "      <td>1</td>\n",
       "    </tr>\n",
       "    <tr>\n",
       "      <th>417557</th>\n",
       "      <td>gmail.com</td>\n",
       "      <td>NaN</td>\n",
       "      <td>0</td>\n",
       "    </tr>\n",
       "    <tr>\n",
       "      <th>417558</th>\n",
       "      <td>gmail.com</td>\n",
       "      <td>NaN</td>\n",
       "      <td>0</td>\n",
       "    </tr>\n",
       "  </tbody>\n",
       "</table>\n",
       "</div>"
      ],
      "text/plain": [
       "       P_emaildomain R_emaildomain  same_emaildomain\n",
       "417554     gmail.com           NaN                 0\n",
       "417555     gmail.com           NaN                 0\n",
       "417556   hotmail.com   hotmail.com                 1\n",
       "417557     gmail.com           NaN                 0\n",
       "417558     gmail.com           NaN                 0"
      ]
     },
     "execution_count": 11,
     "metadata": {},
     "output_type": "execute_result"
    }
   ],
   "source": [
    "df_train['same_emaildomain'] = (df_train['P_emaildomain'] == df_train['R_emaildomain']).astype('uint8')\n",
    "df_test['same_emaildomain'] = (df_test['P_emaildomain'] == df_test['R_emaildomain']).astype('uint8')\n",
    "df_train[['P_emaildomain', 'R_emaildomain', 'same_emaildomain']].tail()"
   ]
  },
  {
   "cell_type": "markdown",
   "metadata": {
    "id": "R0XwZUpoUMMF"
   },
   "source": [
    "Можно комбинировать признаки - производить арифметические операции между числовыми признаками, использовать сочетания категориальных. Такие комбинации иногда позволяют породить мощные признаки. Например, если какие-то из признаков `'card1'-'card6'` и `'addr1'-'addr2'` содержат важную информацию о клиенте, то объединение некоторых из них может помочь лучше идентифицировать клиента и факт мошенничества в транзакции. Главное не переусердствовать - если признаки содержат очень много категорий, то их объединение скорее всего приведет к появлению признака с колоссальным количеством категорий, что в свою очередь может привести к ухудшению качества. Из полученного признака тогда можно извлечь какую-то информацию с помощью группировки и агрегирования, но оставлять его просто так, скорее всего, опасно. Чтобы понять, о чем речь, попробуйте объединить признаки `'card1'` и `'card2'` - это два самых важных признака для модели из бейзлайна.\n",
    "\n",
    "В данном случае скомбинируем признаки `'card3'` и `'card5'` - они входят в топ-50 важных признаков для модели из бейзлайна."
   ]
  },
  {
   "cell_type": "code",
   "execution_count": 12,
   "metadata": {
    "colab": {
     "base_uri": "https://localhost:8080/",
     "height": 359
    },
    "id": "2CgtWmeOUJPV",
    "outputId": "eae66bbd-d43c-4a05-c686-1e2226428041"
   },
   "outputs": [
    {
     "name": "stderr",
     "output_type": "stream",
     "text": [
      "C:\\Users\\DDBD~1\\AppData\\Local\\Temp/ipykernel_9948/800948092.py:2: PerformanceWarning: DataFrame is highly fragmented.  This is usually the result of calling `frame.insert` many times, which has poor performance.  Consider joining all columns at once using pd.concat(axis=1) instead.  To get a de-fragmented frame, use `newframe = frame.copy()`\n",
      "  df_test['card3_card5'] = df_test['card3'].astype(str) + '_' + df_test['card5'].astype(str)\n"
     ]
    },
    {
     "data": {
      "text/html": [
       "<div>\n",
       "<style scoped>\n",
       "    .dataframe tbody tr th:only-of-type {\n",
       "        vertical-align: middle;\n",
       "    }\n",
       "\n",
       "    .dataframe tbody tr th {\n",
       "        vertical-align: top;\n",
       "    }\n",
       "\n",
       "    .dataframe thead th {\n",
       "        text-align: right;\n",
       "    }\n",
       "</style>\n",
       "<table border=\"1\" class=\"dataframe\">\n",
       "  <thead>\n",
       "    <tr style=\"text-align: right;\">\n",
       "      <th></th>\n",
       "      <th>card3</th>\n",
       "      <th>card5</th>\n",
       "      <th>card3_card5</th>\n",
       "    </tr>\n",
       "  </thead>\n",
       "  <tbody>\n",
       "    <tr>\n",
       "      <th>0</th>\n",
       "      <td>150</td>\n",
       "      <td>142</td>\n",
       "      <td>150_142</td>\n",
       "    </tr>\n",
       "    <tr>\n",
       "      <th>1</th>\n",
       "      <td>150</td>\n",
       "      <td>102</td>\n",
       "      <td>150_102</td>\n",
       "    </tr>\n",
       "    <tr>\n",
       "      <th>2</th>\n",
       "      <td>150</td>\n",
       "      <td>166</td>\n",
       "      <td>150_166</td>\n",
       "    </tr>\n",
       "    <tr>\n",
       "      <th>3</th>\n",
       "      <td>150</td>\n",
       "      <td>117</td>\n",
       "      <td>150_117</td>\n",
       "    </tr>\n",
       "    <tr>\n",
       "      <th>4</th>\n",
       "      <td>150</td>\n",
       "      <td>102</td>\n",
       "      <td>150_102</td>\n",
       "    </tr>\n",
       "    <tr>\n",
       "      <th>5</th>\n",
       "      <td>150</td>\n",
       "      <td>226</td>\n",
       "      <td>150_226</td>\n",
       "    </tr>\n",
       "    <tr>\n",
       "      <th>6</th>\n",
       "      <td>150</td>\n",
       "      <td>166</td>\n",
       "      <td>150_166</td>\n",
       "    </tr>\n",
       "    <tr>\n",
       "      <th>7</th>\n",
       "      <td>150</td>\n",
       "      <td>226</td>\n",
       "      <td>150_226</td>\n",
       "    </tr>\n",
       "    <tr>\n",
       "      <th>8</th>\n",
       "      <td>150</td>\n",
       "      <td>226</td>\n",
       "      <td>150_226</td>\n",
       "    </tr>\n",
       "    <tr>\n",
       "      <th>9</th>\n",
       "      <td>150</td>\n",
       "      <td>224</td>\n",
       "      <td>150_224</td>\n",
       "    </tr>\n",
       "  </tbody>\n",
       "</table>\n",
       "</div>"
      ],
      "text/plain": [
       "   card3  card5 card3_card5\n",
       "0    150    142     150_142\n",
       "1    150    102     150_102\n",
       "2    150    166     150_166\n",
       "3    150    117     150_117\n",
       "4    150    102     150_102\n",
       "5    150    226     150_226\n",
       "6    150    166     150_166\n",
       "7    150    226     150_226\n",
       "8    150    226     150_226\n",
       "9    150    224     150_224"
      ]
     },
     "execution_count": 12,
     "metadata": {},
     "output_type": "execute_result"
    }
   ],
   "source": [
    "df_train['card3_card5'] = df_train['card3'].astype(str) + '_' + df_train['card5'].astype(str)\n",
    "df_test['card3_card5'] = df_test['card3'].astype(str) + '_' + df_test['card5'].astype(str)\n",
    "df_train[['card3', 'card5', 'card3_card5']].head(10)"
   ]
  },
  {
   "cell_type": "code",
   "execution_count": 13,
   "metadata": {
    "colab": {
     "base_uri": "https://localhost:8080/",
     "height": 68
    },
    "id": "jjrSEIZ6ojbt",
    "outputId": "4c926d32-d9e7-47e7-da48-b00596facd4f"
   },
   "outputs": [
    {
     "name": "stdout",
     "output_type": "stream",
     "text": [
      "Number of categories in train for card3: 106\n",
      "Number of categories in train for card5: 111\n",
      "Number of categories in train for card3_card5: 553\n"
     ]
    }
   ],
   "source": [
    "for col in ['card3', 'card5', 'card3_card5']:\n",
    "    print('Number of categories in train for {}: {}'.format(col, df_train[col].nunique()))"
   ]
  },
  {
   "cell_type": "markdown",
   "metadata": {
    "id": "p8jLN_vmoluq"
   },
   "source": [
    "Можно также закодировать категориальные признаки, исходя из их частоты встречаемости в выборке."
   ]
  },
  {
   "cell_type": "code",
   "execution_count": 14,
   "metadata": {
    "colab": {
     "base_uri": "https://localhost:8080/",
     "height": 359
    },
    "id": "QviIeqZ1okpF",
    "outputId": "d650f2db-9ecf-4617-b5f0-bf2763d89605"
   },
   "outputs": [
    {
     "name": "stderr",
     "output_type": "stream",
     "text": [
      "C:\\Users\\DDBD~1\\AppData\\Local\\Temp/ipykernel_9948/660327109.py:4: PerformanceWarning: DataFrame is highly fragmented.  This is usually the result of calling `frame.insert` many times, which has poor performance.  Consider joining all columns at once using pd.concat(axis=1) instead.  To get a de-fragmented frame, use `newframe = frame.copy()`\n",
      "  df_test['{}_cnt'.format(col)] = df_test[col].map(card_freq)\n"
     ]
    },
    {
     "data": {
      "text/html": [
       "<div>\n",
       "<style scoped>\n",
       "    .dataframe tbody tr th:only-of-type {\n",
       "        vertical-align: middle;\n",
       "    }\n",
       "\n",
       "    .dataframe tbody tr th {\n",
       "        vertical-align: top;\n",
       "    }\n",
       "\n",
       "    .dataframe thead th {\n",
       "        text-align: right;\n",
       "    }\n",
       "</style>\n",
       "<table border=\"1\" class=\"dataframe\">\n",
       "  <thead>\n",
       "    <tr style=\"text-align: right;\">\n",
       "      <th></th>\n",
       "      <th>card1</th>\n",
       "      <th>card1_cnt</th>\n",
       "      <th>card2</th>\n",
       "      <th>card2_cnt</th>\n",
       "    </tr>\n",
       "  </thead>\n",
       "  <tbody>\n",
       "    <tr>\n",
       "      <th>0</th>\n",
       "      <td>13926</td>\n",
       "      <td>29</td>\n",
       "      <td>99</td>\n",
       "      <td>6563</td>\n",
       "    </tr>\n",
       "    <tr>\n",
       "      <th>1</th>\n",
       "      <td>2755</td>\n",
       "      <td>526</td>\n",
       "      <td>404</td>\n",
       "      <td>2371</td>\n",
       "    </tr>\n",
       "    <tr>\n",
       "      <th>2</th>\n",
       "      <td>4663</td>\n",
       "      <td>778</td>\n",
       "      <td>490</td>\n",
       "      <td>26366</td>\n",
       "    </tr>\n",
       "    <tr>\n",
       "      <th>3</th>\n",
       "      <td>18132</td>\n",
       "      <td>2970</td>\n",
       "      <td>567</td>\n",
       "      <td>4329</td>\n",
       "    </tr>\n",
       "    <tr>\n",
       "      <th>4</th>\n",
       "      <td>4497</td>\n",
       "      <td>9</td>\n",
       "      <td>514</td>\n",
       "      <td>10587</td>\n",
       "    </tr>\n",
       "    <tr>\n",
       "      <th>5</th>\n",
       "      <td>5937</td>\n",
       "      <td>6</td>\n",
       "      <td>555</td>\n",
       "      <td>29919</td>\n",
       "    </tr>\n",
       "    <tr>\n",
       "      <th>6</th>\n",
       "      <td>12308</td>\n",
       "      <td>163</td>\n",
       "      <td>360</td>\n",
       "      <td>10518</td>\n",
       "    </tr>\n",
       "    <tr>\n",
       "      <th>7</th>\n",
       "      <td>12695</td>\n",
       "      <td>4837</td>\n",
       "      <td>490</td>\n",
       "      <td>26366</td>\n",
       "    </tr>\n",
       "    <tr>\n",
       "      <th>8</th>\n",
       "      <td>2803</td>\n",
       "      <td>4291</td>\n",
       "      <td>100</td>\n",
       "      <td>5372</td>\n",
       "    </tr>\n",
       "    <tr>\n",
       "      <th>9</th>\n",
       "      <td>17399</td>\n",
       "      <td>1293</td>\n",
       "      <td>111</td>\n",
       "      <td>31710</td>\n",
       "    </tr>\n",
       "  </tbody>\n",
       "</table>\n",
       "</div>"
      ],
      "text/plain": [
       "   card1  card1_cnt  card2  card2_cnt\n",
       "0  13926         29     99       6563\n",
       "1   2755        526    404       2371\n",
       "2   4663        778    490      26366\n",
       "3  18132       2970    567       4329\n",
       "4   4497          9    514      10587\n",
       "5   5937          6    555      29919\n",
       "6  12308        163    360      10518\n",
       "7  12695       4837    490      26366\n",
       "8   2803       4291    100       5372\n",
       "9  17399       1293    111      31710"
      ]
     },
     "execution_count": 14,
     "metadata": {},
     "output_type": "execute_result"
    }
   ],
   "source": [
    "for col in ['card1', 'card2']:\n",
    "    card_freq = df_train[col].value_counts().to_dict()\n",
    "    df_train['{}_cnt'.format(col)] = df_train[col].map(card_freq)\n",
    "    df_test['{}_cnt'.format(col)] = df_test[col].map(card_freq)\n",
    "df_train[['card1', 'card1_cnt', 'card2', 'card2_cnt']].head(10)"
   ]
  },
  {
   "cell_type": "markdown",
   "metadata": {
    "id": "n5I9h5t2on_0"
   },
   "source": [
    "Наконец, можно использовать агрегирование и группировку. Например, наряду с `'card1'` и `'card2'`, одним из важнейших признаков для модели в бейзлайне является `'TransactionAmt'`. Давайте добавим в данные признаки, отвечающие за среднюю, медианную, максимальную и минимальную суммы покупок для каждой категории в `'card1'` и `'card2'`."
   ]
  },
  {
   "cell_type": "code",
   "execution_count": 15,
   "metadata": {
    "colab": {
     "base_uri": "https://localhost:8080/",
     "height": 379
    },
    "id": "K6YO7UYZom4c",
    "outputId": "fe37c3cc-bc7f-4dca-d04d-153f7b7839a3",
    "scrolled": true
   },
   "outputs": [
    {
     "data": {
      "text/html": [
       "<div>\n",
       "<style scoped>\n",
       "    .dataframe tbody tr th:only-of-type {\n",
       "        vertical-align: middle;\n",
       "    }\n",
       "\n",
       "    .dataframe tbody tr th {\n",
       "        vertical-align: top;\n",
       "    }\n",
       "\n",
       "    .dataframe thead th {\n",
       "        text-align: right;\n",
       "    }\n",
       "</style>\n",
       "<table border=\"1\" class=\"dataframe\">\n",
       "  <thead>\n",
       "    <tr style=\"text-align: right;\">\n",
       "      <th></th>\n",
       "      <th>TransactionAmt</th>\n",
       "      <th>card1</th>\n",
       "      <th>TransactionAmt_card1_mean</th>\n",
       "      <th>TransactionAmt_card1_median</th>\n",
       "      <th>TransactionAmt_card1_min</th>\n",
       "      <th>TransactionAmt_card1_max</th>\n",
       "      <th>card2</th>\n",
       "      <th>TransactionAmt_card2_mean</th>\n",
       "      <th>TransactionAmt_card2_median</th>\n",
       "      <th>TransactionAmt_card2_min</th>\n",
       "      <th>TransactionAmt_card2_max</th>\n",
       "    </tr>\n",
       "  </thead>\n",
       "  <tbody>\n",
       "    <tr>\n",
       "      <th>0</th>\n",
       "      <td>68.5</td>\n",
       "      <td>13926</td>\n",
       "      <td>368.656219</td>\n",
       "      <td>150.000000</td>\n",
       "      <td>40.00</td>\n",
       "      <td>1343.140015</td>\n",
       "      <td>99</td>\n",
       "      <td>177.598236</td>\n",
       "      <td>78.500000</td>\n",
       "      <td>5.000</td>\n",
       "      <td>3069.250000</td>\n",
       "    </tr>\n",
       "    <tr>\n",
       "      <th>1</th>\n",
       "      <td>29.0</td>\n",
       "      <td>2755</td>\n",
       "      <td>243.561661</td>\n",
       "      <td>108.949997</td>\n",
       "      <td>10.00</td>\n",
       "      <td>6085.229980</td>\n",
       "      <td>404</td>\n",
       "      <td>229.298645</td>\n",
       "      <td>108.949997</td>\n",
       "      <td>5.000</td>\n",
       "      <td>6085.229980</td>\n",
       "    </tr>\n",
       "    <tr>\n",
       "      <th>2</th>\n",
       "      <td>59.0</td>\n",
       "      <td>4663</td>\n",
       "      <td>96.343185</td>\n",
       "      <td>59.000000</td>\n",
       "      <td>12.50</td>\n",
       "      <td>994.000000</td>\n",
       "      <td>490</td>\n",
       "      <td>132.193436</td>\n",
       "      <td>77.000000</td>\n",
       "      <td>0.424</td>\n",
       "      <td>6450.970215</td>\n",
       "    </tr>\n",
       "    <tr>\n",
       "      <th>3</th>\n",
       "      <td>50.0</td>\n",
       "      <td>18132</td>\n",
       "      <td>122.751434</td>\n",
       "      <td>67.949997</td>\n",
       "      <td>6.00</td>\n",
       "      <td>3190.000000</td>\n",
       "      <td>567</td>\n",
       "      <td>131.370285</td>\n",
       "      <td>77.949997</td>\n",
       "      <td>6.000</td>\n",
       "      <td>3190.000000</td>\n",
       "    </tr>\n",
       "    <tr>\n",
       "      <th>4</th>\n",
       "      <td>50.0</td>\n",
       "      <td>4497</td>\n",
       "      <td>105.083328</td>\n",
       "      <td>108.949997</td>\n",
       "      <td>30.00</td>\n",
       "      <td>200.000000</td>\n",
       "      <td>514</td>\n",
       "      <td>217.431381</td>\n",
       "      <td>102.000000</td>\n",
       "      <td>5.000</td>\n",
       "      <td>31937.390625</td>\n",
       "    </tr>\n",
       "    <tr>\n",
       "      <th>5</th>\n",
       "      <td>49.0</td>\n",
       "      <td>5937</td>\n",
       "      <td>148.250000</td>\n",
       "      <td>144.000000</td>\n",
       "      <td>49.00</td>\n",
       "      <td>317.500000</td>\n",
       "      <td>555</td>\n",
       "      <td>125.474594</td>\n",
       "      <td>68.094002</td>\n",
       "      <td>0.272</td>\n",
       "      <td>3594.949951</td>\n",
       "    </tr>\n",
       "    <tr>\n",
       "      <th>6</th>\n",
       "      <td>159.0</td>\n",
       "      <td>12308</td>\n",
       "      <td>107.105888</td>\n",
       "      <td>59.000000</td>\n",
       "      <td>12.50</td>\n",
       "      <td>2161.000000</td>\n",
       "      <td>360</td>\n",
       "      <td>98.937828</td>\n",
       "      <td>58.950001</td>\n",
       "      <td>5.000</td>\n",
       "      <td>3472.949951</td>\n",
       "    </tr>\n",
       "    <tr>\n",
       "      <th>7</th>\n",
       "      <td>422.5</td>\n",
       "      <td>12695</td>\n",
       "      <td>143.267792</td>\n",
       "      <td>85.000000</td>\n",
       "      <td>7.97</td>\n",
       "      <td>3162.949951</td>\n",
       "      <td>490</td>\n",
       "      <td>132.193436</td>\n",
       "      <td>77.000000</td>\n",
       "      <td>0.424</td>\n",
       "      <td>6450.970215</td>\n",
       "    </tr>\n",
       "    <tr>\n",
       "      <th>8</th>\n",
       "      <td>15.0</td>\n",
       "      <td>2803</td>\n",
       "      <td>145.065338</td>\n",
       "      <td>77.000000</td>\n",
       "      <td>5.00</td>\n",
       "      <td>3511.949951</td>\n",
       "      <td>100</td>\n",
       "      <td>172.210480</td>\n",
       "      <td>92.000000</td>\n",
       "      <td>5.000</td>\n",
       "      <td>5543.229980</td>\n",
       "    </tr>\n",
       "    <tr>\n",
       "      <th>9</th>\n",
       "      <td>117.0</td>\n",
       "      <td>17399</td>\n",
       "      <td>127.806297</td>\n",
       "      <td>67.949997</td>\n",
       "      <td>10.95</td>\n",
       "      <td>2775.000000</td>\n",
       "      <td>111</td>\n",
       "      <td>148.041214</td>\n",
       "      <td>87.949997</td>\n",
       "      <td>3.500</td>\n",
       "      <td>4301.950195</td>\n",
       "    </tr>\n",
       "  </tbody>\n",
       "</table>\n",
       "</div>"
      ],
      "text/plain": [
       "   TransactionAmt  card1  TransactionAmt_card1_mean  \\\n",
       "0            68.5  13926                 368.656219   \n",
       "1            29.0   2755                 243.561661   \n",
       "2            59.0   4663                  96.343185   \n",
       "3            50.0  18132                 122.751434   \n",
       "4            50.0   4497                 105.083328   \n",
       "5            49.0   5937                 148.250000   \n",
       "6           159.0  12308                 107.105888   \n",
       "7           422.5  12695                 143.267792   \n",
       "8            15.0   2803                 145.065338   \n",
       "9           117.0  17399                 127.806297   \n",
       "\n",
       "   TransactionAmt_card1_median  TransactionAmt_card1_min  \\\n",
       "0                   150.000000                     40.00   \n",
       "1                   108.949997                     10.00   \n",
       "2                    59.000000                     12.50   \n",
       "3                    67.949997                      6.00   \n",
       "4                   108.949997                     30.00   \n",
       "5                   144.000000                     49.00   \n",
       "6                    59.000000                     12.50   \n",
       "7                    85.000000                      7.97   \n",
       "8                    77.000000                      5.00   \n",
       "9                    67.949997                     10.95   \n",
       "\n",
       "   TransactionAmt_card1_max  card2  TransactionAmt_card2_mean  \\\n",
       "0               1343.140015     99                 177.598236   \n",
       "1               6085.229980    404                 229.298645   \n",
       "2                994.000000    490                 132.193436   \n",
       "3               3190.000000    567                 131.370285   \n",
       "4                200.000000    514                 217.431381   \n",
       "5                317.500000    555                 125.474594   \n",
       "6               2161.000000    360                  98.937828   \n",
       "7               3162.949951    490                 132.193436   \n",
       "8               3511.949951    100                 172.210480   \n",
       "9               2775.000000    111                 148.041214   \n",
       "\n",
       "   TransactionAmt_card2_median  TransactionAmt_card2_min  \\\n",
       "0                    78.500000                     5.000   \n",
       "1                   108.949997                     5.000   \n",
       "2                    77.000000                     0.424   \n",
       "3                    77.949997                     6.000   \n",
       "4                   102.000000                     5.000   \n",
       "5                    68.094002                     0.272   \n",
       "6                    58.950001                     5.000   \n",
       "7                    77.000000                     0.424   \n",
       "8                    92.000000                     5.000   \n",
       "9                    87.949997                     3.500   \n",
       "\n",
       "   TransactionAmt_card2_max  \n",
       "0               3069.250000  \n",
       "1               6085.229980  \n",
       "2               6450.970215  \n",
       "3               3190.000000  \n",
       "4              31937.390625  \n",
       "5               3594.949951  \n",
       "6               3472.949951  \n",
       "7               6450.970215  \n",
       "8               5543.229980  \n",
       "9               4301.950195  "
      ]
     },
     "execution_count": 15,
     "metadata": {},
     "output_type": "execute_result"
    }
   ],
   "source": [
    "new_cols = []\n",
    "for col in ['card1', 'card2']:\n",
    "    for agg_type in ['mean', 'median', 'min', 'max']:\n",
    "        agg_col_name = 'TransactionAmt_{}_{}'.format(col, agg_type)\n",
    "        card_agg = df_train.groupby(col)['TransactionAmt'].agg([agg_type]).rename({agg_type: agg_col_name}, axis=1)\n",
    "        df_train = df_train.merge(card_agg, how='left', on=col)\n",
    "        df_test = df_test.merge(card_agg, how='left', on=col)\n",
    "        new_cols.append(agg_col_name)\n",
    "df_train[['TransactionAmt', 'card1'] + new_cols[:4] + ['card2'] + new_cols[4:]].head(10)"
   ]
  },
  {
   "cell_type": "markdown",
   "metadata": {
    "id": "JlS2v2mdovr0"
   },
   "source": [
    "Напоследок отметим, что можно проводить также и отбор признаков - дело в том, что если в данных много неинформативных признаков, они могут лишь создать помехи при обучении. Способов отбора много, начиная от ручного и заканчивая специально разработанными для этого методами. В данном случае мы оставим все как есть.\n",
    "\n",
    "После всех операций с признаками удалим столбец `'TransactionAmt'`, раз он уже есть у нас в логарифмированном виде - чтобы модель на него не отвлекалась."
   ]
  },
  {
   "cell_type": "code",
   "execution_count": 16,
   "metadata": {
    "id": "h50XaDPeouWs"
   },
   "outputs": [],
   "source": [
    "df_train.drop('TransactionAmt', axis=1, inplace=True)\n",
    "df_test.drop('TransactionAmt', axis=1, inplace=True)"
   ]
  },
  {
   "cell_type": "markdown",
   "metadata": {
    "id": "JdnSSx2Zoy0s"
   },
   "source": [
    "Подготовим полученную выборку к обучению модели так же, как мы делали это в обычном бейзлайне."
   ]
  },
  {
   "cell_type": "code",
   "execution_count": 17,
   "metadata": {
    "colab": {
     "base_uri": "https://localhost:8080/",
     "height": 34
    },
    "id": "2MpZ6Mb0ox88",
    "outputId": "88091ed3-78e9-4f8a-b17e-16a2dbb293d7",
    "scrolled": true
   },
   "outputs": [
    {
     "name": "stderr",
     "output_type": "stream",
     "text": [
      "100%|████████████████████████████████████████████████████████████████████████████████| 448/448 [00:15<00:00, 29.62it/s]\n"
     ]
    }
   ],
   "source": [
    "for col in tqdm(df_train.columns.drop('isFraud')):\n",
    "    if df_train[col].dtype == 'O':\n",
    "        df_train[col] = df_train[col].fillna('unseen_category')\n",
    "        df_test[col] = df_test[col].fillna('unseen_category')\n",
    "        \n",
    "        le = LabelEncoder()\n",
    "        le.fit(list(df_train[col]) + list(df_test[col]))\n",
    "        df_train[col] = le.transform(df_train[col])\n",
    "        df_test[col] = le.transform(df_test[col])\n",
    "        \n",
    "        df_train[col] = df_train[col].astype('category')\n",
    "        df_test[col] = df_test[col].astype('category')\n",
    "\n",
    "    else:\n",
    "        df_train[col] = df_train[col].fillna(-1)\n",
    "        df_test[col] = df_test[col].fillna(-1)\n",
    "\n",
    "# выделяем фолды\n",
    "month_length = 3600 * 24 * 30\n",
    "fold0_idx = df_train[df_train['TransactionDT'] < df_train['TransactionDT'].min() + month_length].index\n",
    "fold1_idx = df_train[(df_train['TransactionDT'].min() + month_length <= df_train['TransactionDT']) & (df_train['TransactionDT'] < df_train['TransactionDT'].min() + 2 * month_length)].index\n",
    "fold2_idx = df_train[(df_train['TransactionDT'].min() + 2 * month_length <= df_train['TransactionDT']) & (df_train['TransactionDT'] < df_train['TransactionDT'].min() + 3 * month_length)].index\n",
    "fold3_idx = df_train[df_train['TransactionDT'].min() + 3 * month_length <= df_train['TransactionDT']].index\n",
    "folds_idx = [fold0_idx, fold1_idx, fold2_idx, fold3_idx]\n",
    "\n",
    "# выделяем идентификационный и временной признаки\n",
    "df_train.drop(['TransactionID', 'TransactionDT'], axis=1, inplace=True)\n",
    "df_test.drop(['TransactionID', 'TransactionDT'], axis=1, inplace=True)"
   ]
  },
  {
   "cell_type": "markdown",
   "metadata": {},
   "source": [
    "# Мой код\n",
    "Я решил убрать признаки, у которых какое-то значение встречается в данных в >80% случаев. Позже я понял, что таргет был несбалансированы, поэтому это был неправильно шаг, но уже менять что-то не было сил честно сказать"
   ]
  },
  {
   "cell_type": "code",
   "execution_count": 54,
   "metadata": {
    "scrolled": false
   },
   "outputs": [
    {
     "name": "stderr",
     "output_type": "stream",
     "text": [
      "100%|████████████████████████████████████████████████████████████████████████████████| 447/447 [00:12<00:00, 36.70it/s]\n"
     ]
    }
   ],
   "source": [
    "a = []\n",
    "b = []\n",
    "for cols in tqdm(df_train.columns):\n",
    "    if df_train[cols].nunique() < 100:\n",
    "        if df_train[cols].dtype.name == 'category':\n",
    "            for i in range(df_train[cols].nunique()):\n",
    "                if df_train[cols].value_counts()[i] > 340000:\n",
    "                    a.append(cols)\n",
    "                    break\n",
    "        else:\n",
    "            for i in df_train[cols].unique():\n",
    "                if df_train[cols].value_counts()[i] > 340000:\n",
    "                    b.append(cols)\n",
    "                    break"
   ]
  },
  {
   "cell_type": "code",
   "execution_count": 19,
   "metadata": {},
   "outputs": [],
   "source": [
    "a.pop(0)\n",
    "df_tr = df_train.copy()\n",
    "df_te = df_test.copy()\n",
    "df_tr.drop(a, axis=1, inplace=True)\n",
    "df_te.drop(a, axis=1, inplace=True)"
   ]
  },
  {
   "cell_type": "markdown",
   "metadata": {
    "id": "YQZaxZsJo14p"
   },
   "source": [
    "Здесь я воспользовался оптимизатором optuna чтобы найти гиперпараметры модели. Сначала я оптимизировал параметры без лёрнинг рейт, потом отдельно еще оптимизировал этот параметр, то есть всего 2 оптимизации"
   ]
  },
  {
   "cell_type": "code",
   "execution_count": 70,
   "metadata": {
    "scrolled": true
   },
   "outputs": [],
   "source": [
    "def objective(trial):\n",
    "    \n",
    "    param_grid = {\n",
    "        'objective': 'binary',\n",
    "        'boosting_type': 'gbdt',\n",
    "        'metric': 'auc',\n",
    "        'n_jobs': -1,\n",
    "        'n_estimators': 5000,\n",
    "        'seed': 1,\n",
    "        'early_stopping_rounds': 200,\n",
    "#         \"learning_rate\": trial.suggest_float(\"learning_rate\", 0.01, 0.3), сначала без нее\n",
    "        'lambda_l1': trial.suggest_loguniform('lambda_l1', 1e-8, 10.0),\n",
    "        'lambda_l2': trial.suggest_loguniform('lambda_l2', 1e-8, 10.0),\n",
    "        'num_leaves': trial.suggest_int('num_leaves', 2, 256),\n",
    "        'feature_fraction': trial.suggest_uniform('feature_fraction', 0.2, 1.0),\n",
    "        'bagging_fraction': trial.suggest_uniform('bagging_fraction', 0.2, 1.0),\n",
    "        'bagging_freq': trial.suggest_int('bagging_freq', 1, 7),\n",
    "        'min_child_samples': trial.suggest_int('min_child_samples', 5, 100)\n",
    "        \n",
    "    }\n",
    "\n",
    "\n",
    "    cv_scores = np.empty(4)\n",
    "    \n",
    "    for i in range(len(folds_idx)):\n",
    "        X_train, X_val = df_tr.drop(folds_idx[i], axis=0).drop('isFraud', axis=1), df_train.iloc[folds_idx[i]].drop('isFraud', axis=1)\n",
    "        y_train, y_val = df_tr.drop(folds_idx[i], axis=0)['isFraud'], df_train.iloc[folds_idx[i]]['isFraud']\n",
    "        \n",
    "        lgb_train = lgb.Dataset(X_train, y_train)\n",
    "        lgb_eval = lgb.Dataset(X_val, y_val, reference=lgb_train)\n",
    "        lgb_model = lgb.train(train_set = lgb_train, valid_sets=lgb_eval, verbose_eval=100, params = param_grid)\n",
    "        \n",
    "        y_pred = lgb_model.predict(X_val)\n",
    "        score_fold = roc_auc_score(y_val, y_pred)\n",
    "        cv_scores[i] = score_fold\n",
    "\n",
    "    return np.mean(cv_scores)"
   ]
  },
  {
   "cell_type": "code",
   "execution_count": null,
   "metadata": {},
   "outputs": [],
   "source": [
    "%%time\n",
    "study = optuna.create_study(direction=\"maximize\", study_name=\"LGBM Classifier_2\")\n",
    "study.optimize(objective, n_trials=100)\n",
    "# я решил не показывать вывод данной строчки кода, т.к. она очень длинная "
   ]
  },
  {
   "cell_type": "code",
   "execution_count": null,
   "metadata": {},
   "outputs": [],
   "source": [
    "# полученные оптимальные гиперпараметры (находил вручную в окошке вывода)\n",
    "{'lambda_l1': 1.874781296591587e-05, 'lambda_l2': 0.06378446666969453, 'num_leaves': 247, 'feature_fraction': 0.5632727860997702, 'bagging_fraction': 0.9454630708661762, 'bagging_freq': 7, 'min_child_samples': 38}"
   ]
  },
  {
   "cell_type": "code",
   "execution_count": null,
   "metadata": {},
   "outputs": [],
   "source": [
    "%%time\n",
    "study = optuna.create_study(direction=\"maximize\", study_name=\"LGBM Classifier_3\")\n",
    "study.optimize(objective, n_trials=100)\n",
    "# я решил не показывать вывод данной строчки кода, т.к. она очень длинная "
   ]
  },
  {
   "cell_type": "code",
   "execution_count": 39,
   "metadata": {
    "scrolled": true
   },
   "outputs": [
    {
     "data": {
      "text/plain": [
       "{'learning_rate': 0.011256858463563033}"
      ]
     },
     "execution_count": 39,
     "metadata": {},
     "output_type": "execute_result"
    }
   ],
   "source": [
    "# оптимальный лернинг рейт(научился делать нормальный вывод)\n",
    "study.best_params"
   ]
  },
  {
   "cell_type": "code",
   "execution_count": 79,
   "metadata": {},
   "outputs": [
    {
     "name": "stdout",
     "output_type": "stream",
     "text": [
      "Wall time: 37.3 s\n"
     ]
    }
   ],
   "source": [
    "#решил создать синтетические данные, чтобы сбалнсировать таргет\n",
    "%%time\n",
    "smote = SMOTE(sampling_strategy='minority', n_jobs=-1, random_state=1)\n",
    "X_sm, y_sm = smote.fit_resample(df_train.drop('isFraud', axis=1), df_train['isFraud'])"
   ]
  },
  {
   "cell_type": "markdown",
   "metadata": {},
   "source": [
    "Обучил лайтгбм с использованием полученных гиперпараметров"
   ]
  },
  {
   "cell_type": "code",
   "execution_count": 89,
   "metadata": {},
   "outputs": [],
   "source": [
    "kf = KFold(n_splits=5)"
   ]
  },
  {
   "cell_type": "code",
   "execution_count": 91,
   "metadata": {
    "colab": {
     "base_uri": "https://localhost:8080/",
     "height": 1000
    },
    "id": "lbiyWdLxo0kZ",
    "outputId": "4bfa8a05-be30-418c-8288-d50176eea1ae",
    "scrolled": true
   },
   "outputs": [
    {
     "name": "stderr",
     "output_type": "stream",
     "text": [
      "D:\\anaconda3\\lib\\site-packages\\lightgbm\\engine.py:177: UserWarning: Found `n_estimators` in params. Will use it instead of argument\n",
      "  _log_warning(f\"Found `{alias}` in params. Will use it instead of argument\")\n",
      "D:\\anaconda3\\lib\\site-packages\\lightgbm\\engine.py:239: UserWarning: 'verbose_eval' argument is deprecated and will be removed in a future release of LightGBM. Pass 'log_evaluation()' callback via 'callbacks' argument instead.\n",
      "  _log_warning(\"'verbose_eval' argument is deprecated and will be removed in a future release of LightGBM. \"\n"
     ]
    },
    {
     "name": "stdout",
     "output_type": "stream",
     "text": [
      "[LightGBM] [Info] Number of positive: 398424, number of negative: 246116\n",
      "[LightGBM] [Warning] Auto-choosing row-wise multi-threading, the overhead of testing was 0.282795 seconds.\n",
      "You can set `force_row_wise=true` to remove the overhead.\n",
      "And if memory is not enough, you can set `force_col_wise=true`.\n",
      "[LightGBM] [Info] Total Bins 67144\n",
      "[LightGBM] [Info] Number of data points in the train set: 644540, number of used features: 445\n"
     ]
    },
    {
     "name": "stderr",
     "output_type": "stream",
     "text": [
      "D:\\anaconda3\\lib\\site-packages\\lightgbm\\basic.py:1780: UserWarning: Overriding the parameters from Reference Dataset.\n",
      "  _log_warning('Overriding the parameters from Reference Dataset.')\n",
      "D:\\anaconda3\\lib\\site-packages\\lightgbm\\basic.py:1513: UserWarning: categorical_column in param dict is overridden.\n",
      "  _log_warning(f'{cat_alias} in param dict is overridden.')\n"
     ]
    },
    {
     "name": "stdout",
     "output_type": "stream",
     "text": [
      "[LightGBM] [Info] [binary:BoostFromScore]: pavg=0.618152 -> initscore=0.481714\n",
      "[LightGBM] [Info] Start training from score 0.481714\n",
      "Training until validation scores don't improve for 200 rounds\n",
      "[100]\tvalid_0's auc: 0.883642\n",
      "[200]\tvalid_0's auc: 0.894718\n",
      "[300]\tvalid_0's auc: 0.905359\n",
      "[400]\tvalid_0's auc: 0.915615\n",
      "[500]\tvalid_0's auc: 0.923738\n",
      "[600]\tvalid_0's auc: 0.930072\n",
      "[700]\tvalid_0's auc: 0.934384\n",
      "[800]\tvalid_0's auc: 0.937483\n",
      "[900]\tvalid_0's auc: 0.939512\n",
      "[1000]\tvalid_0's auc: 0.941293\n",
      "[1100]\tvalid_0's auc: 0.942519\n",
      "[1200]\tvalid_0's auc: 0.943545\n",
      "[1300]\tvalid_0's auc: 0.94415\n",
      "[1400]\tvalid_0's auc: 0.944876\n",
      "[1500]\tvalid_0's auc: 0.945496\n",
      "[1600]\tvalid_0's auc: 0.946132\n",
      "[1700]\tvalid_0's auc: 0.9466\n",
      "[1800]\tvalid_0's auc: 0.946986\n",
      "[1900]\tvalid_0's auc: 0.947385\n",
      "[2000]\tvalid_0's auc: 0.947596\n",
      "[2100]\tvalid_0's auc: 0.947978\n",
      "[2200]\tvalid_0's auc: 0.94832\n",
      "[2300]\tvalid_0's auc: 0.948471\n",
      "[2400]\tvalid_0's auc: 0.948782\n",
      "[2500]\tvalid_0's auc: 0.948882\n",
      "[2600]\tvalid_0's auc: 0.949083\n",
      "[2700]\tvalid_0's auc: 0.949142\n",
      "[2800]\tvalid_0's auc: 0.949299\n",
      "[2900]\tvalid_0's auc: 0.949352\n",
      "[3000]\tvalid_0's auc: 0.949451\n",
      "[3100]\tvalid_0's auc: 0.949598\n",
      "[3200]\tvalid_0's auc: 0.949705\n",
      "[3300]\tvalid_0's auc: 0.949803\n",
      "[3400]\tvalid_0's auc: 0.949922\n",
      "[3500]\tvalid_0's auc: 0.950028\n",
      "[3600]\tvalid_0's auc: 0.950067\n",
      "[3700]\tvalid_0's auc: 0.950205\n",
      "[3800]\tvalid_0's auc: 0.950359\n",
      "[3900]\tvalid_0's auc: 0.950456\n",
      "[4000]\tvalid_0's auc: 0.950506\n",
      "[4100]\tvalid_0's auc: 0.950656\n",
      "[4200]\tvalid_0's auc: 0.950827\n",
      "[4300]\tvalid_0's auc: 0.950899\n",
      "[4400]\tvalid_0's auc: 0.951007\n",
      "[4500]\tvalid_0's auc: 0.951017\n",
      "[4600]\tvalid_0's auc: 0.951054\n",
      "[4700]\tvalid_0's auc: 0.951112\n",
      "[4800]\tvalid_0's auc: 0.951161\n",
      "[4900]\tvalid_0's auc: 0.951185\n",
      "[5000]\tvalid_0's auc: 0.951248\n",
      "Did not meet early stopping. Best iteration is:\n",
      "[5000]\tvalid_0's auc: 0.951248\n"
     ]
    },
    {
     "name": "stderr",
     "output_type": "stream",
     "text": [
      "D:\\anaconda3\\lib\\site-packages\\lightgbm\\engine.py:177: UserWarning: Found `n_estimators` in params. Will use it instead of argument\n",
      "  _log_warning(f\"Found `{alias}` in params. Will use it instead of argument\")\n",
      "D:\\anaconda3\\lib\\site-packages\\lightgbm\\engine.py:239: UserWarning: 'verbose_eval' argument is deprecated and will be removed in a future release of LightGBM. Pass 'log_evaluation()' callback via 'callbacks' argument instead.\n",
      "  _log_warning(\"'verbose_eval' argument is deprecated and will be removed in a future release of LightGBM. \"\n"
     ]
    },
    {
     "name": "stdout",
     "output_type": "stream",
     "text": [
      "[LightGBM] [Info] Number of positive: 396296, number of negative: 248245\n",
      "[LightGBM] [Warning] Auto-choosing row-wise multi-threading, the overhead of testing was 0.229456 seconds.\n",
      "You can set `force_row_wise=true` to remove the overhead.\n",
      "And if memory is not enough, you can set `force_col_wise=true`.\n",
      "[LightGBM] [Info] Total Bins 67163\n",
      "[LightGBM] [Info] Number of data points in the train set: 644541, number of used features: 445\n"
     ]
    },
    {
     "name": "stderr",
     "output_type": "stream",
     "text": [
      "D:\\anaconda3\\lib\\site-packages\\lightgbm\\basic.py:1780: UserWarning: Overriding the parameters from Reference Dataset.\n",
      "  _log_warning('Overriding the parameters from Reference Dataset.')\n",
      "D:\\anaconda3\\lib\\site-packages\\lightgbm\\basic.py:1513: UserWarning: categorical_column in param dict is overridden.\n",
      "  _log_warning(f'{cat_alias} in param dict is overridden.')\n"
     ]
    },
    {
     "name": "stdout",
     "output_type": "stream",
     "text": [
      "[LightGBM] [Info] [binary:BoostFromScore]: pavg=0.614850 -> initscore=0.467745\n",
      "[LightGBM] [Info] Start training from score 0.467745\n",
      "Training until validation scores don't improve for 200 rounds\n",
      "[100]\tvalid_0's auc: 0.894162\n",
      "[200]\tvalid_0's auc: 0.906359\n",
      "[300]\tvalid_0's auc: 0.916323\n",
      "[400]\tvalid_0's auc: 0.926479\n",
      "[500]\tvalid_0's auc: 0.935355\n",
      "[600]\tvalid_0's auc: 0.941057\n",
      "[700]\tvalid_0's auc: 0.945246\n",
      "[800]\tvalid_0's auc: 0.94809\n",
      "[900]\tvalid_0's auc: 0.95006\n",
      "[1000]\tvalid_0's auc: 0.951748\n",
      "[1100]\tvalid_0's auc: 0.952981\n",
      "[1200]\tvalid_0's auc: 0.953839\n",
      "[1300]\tvalid_0's auc: 0.954424\n",
      "[1400]\tvalid_0's auc: 0.955036\n",
      "[1500]\tvalid_0's auc: 0.955683\n",
      "[1600]\tvalid_0's auc: 0.956094\n",
      "[1700]\tvalid_0's auc: 0.956496\n",
      "[1800]\tvalid_0's auc: 0.957034\n",
      "[1900]\tvalid_0's auc: 0.957345\n",
      "[2000]\tvalid_0's auc: 0.957678\n",
      "[2100]\tvalid_0's auc: 0.958085\n",
      "[2200]\tvalid_0's auc: 0.958416\n",
      "[2300]\tvalid_0's auc: 0.95865\n",
      "[2400]\tvalid_0's auc: 0.959032\n",
      "[2500]\tvalid_0's auc: 0.959374\n",
      "[2600]\tvalid_0's auc: 0.95948\n",
      "[2700]\tvalid_0's auc: 0.959838\n",
      "[2800]\tvalid_0's auc: 0.95995\n",
      "[2900]\tvalid_0's auc: 0.960113\n",
      "[3000]\tvalid_0's auc: 0.960155\n",
      "[3100]\tvalid_0's auc: 0.960267\n",
      "[3200]\tvalid_0's auc: 0.960282\n",
      "[3300]\tvalid_0's auc: 0.960373\n",
      "[3400]\tvalid_0's auc: 0.960509\n",
      "[3500]\tvalid_0's auc: 0.960631\n",
      "[3600]\tvalid_0's auc: 0.960699\n",
      "[3700]\tvalid_0's auc: 0.960879\n",
      "[3800]\tvalid_0's auc: 0.96097\n",
      "[3900]\tvalid_0's auc: 0.961066\n",
      "[4000]\tvalid_0's auc: 0.961152\n",
      "[4100]\tvalid_0's auc: 0.96117\n",
      "[4200]\tvalid_0's auc: 0.961227\n",
      "[4300]\tvalid_0's auc: 0.961373\n",
      "[4400]\tvalid_0's auc: 0.96146\n",
      "[4500]\tvalid_0's auc: 0.961566\n",
      "[4600]\tvalid_0's auc: 0.961646\n",
      "[4700]\tvalid_0's auc: 0.961683\n",
      "[4800]\tvalid_0's auc: 0.961728\n",
      "[4900]\tvalid_0's auc: 0.961759\n",
      "[5000]\tvalid_0's auc: 0.961769\n",
      "Did not meet early stopping. Best iteration is:\n",
      "[4999]\tvalid_0's auc: 0.961773\n"
     ]
    },
    {
     "name": "stderr",
     "output_type": "stream",
     "text": [
      "D:\\anaconda3\\lib\\site-packages\\lightgbm\\engine.py:177: UserWarning: Found `n_estimators` in params. Will use it instead of argument\n",
      "  _log_warning(f\"Found `{alias}` in params. Will use it instead of argument\")\n",
      "D:\\anaconda3\\lib\\site-packages\\lightgbm\\engine.py:239: UserWarning: 'verbose_eval' argument is deprecated and will be removed in a future release of LightGBM. Pass 'log_evaluation()' callback via 'callbacks' argument instead.\n",
      "  _log_warning(\"'verbose_eval' argument is deprecated and will be removed in a future release of LightGBM. \"\n"
     ]
    },
    {
     "name": "stdout",
     "output_type": "stream",
     "text": [
      "[LightGBM] [Info] Number of positive: 333226, number of negative: 311315\n",
      "[LightGBM] [Warning] Auto-choosing row-wise multi-threading, the overhead of testing was 0.251994 seconds.\n",
      "You can set `force_row_wise=true` to remove the overhead.\n",
      "And if memory is not enough, you can set `force_col_wise=true`.\n",
      "[LightGBM] [Info] Total Bins 65837\n",
      "[LightGBM] [Info] Number of data points in the train set: 644541, number of used features: 445\n"
     ]
    },
    {
     "name": "stderr",
     "output_type": "stream",
     "text": [
      "D:\\anaconda3\\lib\\site-packages\\lightgbm\\basic.py:1780: UserWarning: Overriding the parameters from Reference Dataset.\n",
      "  _log_warning('Overriding the parameters from Reference Dataset.')\n",
      "D:\\anaconda3\\lib\\site-packages\\lightgbm\\basic.py:1513: UserWarning: categorical_column in param dict is overridden.\n",
      "  _log_warning(f'{cat_alias} in param dict is overridden.')\n"
     ]
    },
    {
     "name": "stdout",
     "output_type": "stream",
     "text": [
      "[LightGBM] [Info] [binary:BoostFromScore]: pavg=0.516997 -> initscore=0.068016\n",
      "[LightGBM] [Info] Start training from score 0.068016\n",
      "Training until validation scores don't improve for 200 rounds\n",
      "[100]\tvalid_0's auc: 0.991156\n",
      "[200]\tvalid_0's auc: 0.99311\n",
      "[300]\tvalid_0's auc: 0.994436\n",
      "[400]\tvalid_0's auc: 0.995356\n",
      "[500]\tvalid_0's auc: 0.995991\n",
      "[600]\tvalid_0's auc: 0.996367\n",
      "[700]\tvalid_0's auc: 0.996611\n",
      "[800]\tvalid_0's auc: 0.996802\n",
      "[900]\tvalid_0's auc: 0.996915\n",
      "[1000]\tvalid_0's auc: 0.99701\n",
      "[1100]\tvalid_0's auc: 0.997087\n",
      "[1200]\tvalid_0's auc: 0.997148\n",
      "[1300]\tvalid_0's auc: 0.997195\n",
      "[1400]\tvalid_0's auc: 0.997241\n",
      "[1500]\tvalid_0's auc: 0.99728\n",
      "[1600]\tvalid_0's auc: 0.997312\n",
      "[1700]\tvalid_0's auc: 0.997333\n",
      "[1800]\tvalid_0's auc: 0.997369\n",
      "[1900]\tvalid_0's auc: 0.997399\n",
      "[2000]\tvalid_0's auc: 0.997418\n",
      "[2100]\tvalid_0's auc: 0.997442\n",
      "[2200]\tvalid_0's auc: 0.997466\n",
      "[2300]\tvalid_0's auc: 0.997483\n",
      "[2400]\tvalid_0's auc: 0.997492\n",
      "[2500]\tvalid_0's auc: 0.997513\n",
      "[2600]\tvalid_0's auc: 0.99753\n",
      "[2700]\tvalid_0's auc: 0.997541\n",
      "[2800]\tvalid_0's auc: 0.997556\n",
      "[2900]\tvalid_0's auc: 0.997569\n",
      "[3000]\tvalid_0's auc: 0.997576\n",
      "[3100]\tvalid_0's auc: 0.997585\n",
      "[3200]\tvalid_0's auc: 0.997593\n",
      "[3300]\tvalid_0's auc: 0.997599\n",
      "[3400]\tvalid_0's auc: 0.997605\n",
      "[3500]\tvalid_0's auc: 0.997612\n",
      "[3600]\tvalid_0's auc: 0.997615\n",
      "[3700]\tvalid_0's auc: 0.997626\n",
      "[3800]\tvalid_0's auc: 0.997634\n",
      "[3900]\tvalid_0's auc: 0.997641\n",
      "[4000]\tvalid_0's auc: 0.997649\n",
      "[4100]\tvalid_0's auc: 0.997654\n",
      "[4200]\tvalid_0's auc: 0.997661\n",
      "[4300]\tvalid_0's auc: 0.997666\n",
      "[4400]\tvalid_0's auc: 0.997669\n",
      "[4500]\tvalid_0's auc: 0.997669\n",
      "[4600]\tvalid_0's auc: 0.997672\n",
      "[4700]\tvalid_0's auc: 0.997679\n",
      "[4800]\tvalid_0's auc: 0.997683\n",
      "[4900]\tvalid_0's auc: 0.997691\n",
      "[5000]\tvalid_0's auc: 0.997693\n",
      "Did not meet early stopping. Best iteration is:\n",
      "[5000]\tvalid_0's auc: 0.997693\n"
     ]
    },
    {
     "name": "stderr",
     "output_type": "stream",
     "text": [
      "D:\\anaconda3\\lib\\site-packages\\lightgbm\\engine.py:177: UserWarning: Found `n_estimators` in params. Will use it instead of argument\n",
      "  _log_warning(f\"Found `{alias}` in params. Will use it instead of argument\")\n",
      "D:\\anaconda3\\lib\\site-packages\\lightgbm\\engine.py:239: UserWarning: 'verbose_eval' argument is deprecated and will be removed in a future release of LightGBM. Pass 'log_evaluation()' callback via 'callbacks' argument instead.\n",
      "  _log_warning(\"'verbose_eval' argument is deprecated and will be removed in a future release of LightGBM. \"\n"
     ]
    },
    {
     "name": "stdout",
     "output_type": "stream",
     "text": [
      "[LightGBM] [Info] Number of positive: 241703, number of negative: 402838\n",
      "[LightGBM] [Warning] Auto-choosing row-wise multi-threading, the overhead of testing was 0.311814 seconds.\n",
      "You can set `force_row_wise=true` to remove the overhead.\n",
      "And if memory is not enough, you can set `force_col_wise=true`.\n",
      "[LightGBM] [Info] Total Bins 64095\n",
      "[LightGBM] [Info] Number of data points in the train set: 644541, number of used features: 445\n"
     ]
    },
    {
     "name": "stderr",
     "output_type": "stream",
     "text": [
      "D:\\anaconda3\\lib\\site-packages\\lightgbm\\basic.py:1780: UserWarning: Overriding the parameters from Reference Dataset.\n",
      "  _log_warning('Overriding the parameters from Reference Dataset.')\n",
      "D:\\anaconda3\\lib\\site-packages\\lightgbm\\basic.py:1513: UserWarning: categorical_column in param dict is overridden.\n",
      "  _log_warning(f'{cat_alias} in param dict is overridden.')\n"
     ]
    },
    {
     "name": "stdout",
     "output_type": "stream",
     "text": [
      "[LightGBM] [Info] [binary:BoostFromScore]: pavg=0.375000 -> initscore=-0.510825\n",
      "[LightGBM] [Info] Start training from score -0.510825\n",
      "Training until validation scores don't improve for 200 rounds\n",
      "[100]\tvalid_0's auc: 1\n",
      "[200]\tvalid_0's auc: 1\n",
      "Early stopping, best iteration is:\n",
      "[1]\tvalid_0's auc: 1\n"
     ]
    },
    {
     "ename": "ValueError",
     "evalue": "Only one class present in y_true. ROC AUC score is not defined in that case.",
     "output_type": "error",
     "traceback": [
      "\u001b[1;31m---------------------------------------------------------------------------\u001b[0m",
      "\u001b[1;31mValueError\u001b[0m                                Traceback (most recent call last)",
      "\u001b[1;32m<timed exec>\u001b[0m in \u001b[0;36m<module>\u001b[1;34m\u001b[0m\n",
      "\u001b[1;32mD:\\anaconda3\\lib\\site-packages\\sklearn\\utils\\validation.py\u001b[0m in \u001b[0;36minner_f\u001b[1;34m(*args, **kwargs)\u001b[0m\n\u001b[0;32m     61\u001b[0m             \u001b[0mextra_args\u001b[0m \u001b[1;33m=\u001b[0m \u001b[0mlen\u001b[0m\u001b[1;33m(\u001b[0m\u001b[0margs\u001b[0m\u001b[1;33m)\u001b[0m \u001b[1;33m-\u001b[0m \u001b[0mlen\u001b[0m\u001b[1;33m(\u001b[0m\u001b[0mall_args\u001b[0m\u001b[1;33m)\u001b[0m\u001b[1;33m\u001b[0m\u001b[1;33m\u001b[0m\u001b[0m\n\u001b[0;32m     62\u001b[0m             \u001b[1;32mif\u001b[0m \u001b[0mextra_args\u001b[0m \u001b[1;33m<=\u001b[0m \u001b[1;36m0\u001b[0m\u001b[1;33m:\u001b[0m\u001b[1;33m\u001b[0m\u001b[1;33m\u001b[0m\u001b[0m\n\u001b[1;32m---> 63\u001b[1;33m                 \u001b[1;32mreturn\u001b[0m \u001b[0mf\u001b[0m\u001b[1;33m(\u001b[0m\u001b[1;33m*\u001b[0m\u001b[0margs\u001b[0m\u001b[1;33m,\u001b[0m \u001b[1;33m**\u001b[0m\u001b[0mkwargs\u001b[0m\u001b[1;33m)\u001b[0m\u001b[1;33m\u001b[0m\u001b[1;33m\u001b[0m\u001b[0m\n\u001b[0m\u001b[0;32m     64\u001b[0m \u001b[1;33m\u001b[0m\u001b[0m\n\u001b[0;32m     65\u001b[0m             \u001b[1;31m# extra_args > 0\u001b[0m\u001b[1;33m\u001b[0m\u001b[1;33m\u001b[0m\u001b[0m\n",
      "\u001b[1;32mD:\\anaconda3\\lib\\site-packages\\sklearn\\metrics\\_ranking.py\u001b[0m in \u001b[0;36mroc_auc_score\u001b[1;34m(y_true, y_score, average, sample_weight, max_fpr, multi_class, labels)\u001b[0m\n\u001b[0;32m    540\u001b[0m         \u001b[0mlabels\u001b[0m \u001b[1;33m=\u001b[0m \u001b[0mnp\u001b[0m\u001b[1;33m.\u001b[0m\u001b[0munique\u001b[0m\u001b[1;33m(\u001b[0m\u001b[0my_true\u001b[0m\u001b[1;33m)\u001b[0m\u001b[1;33m\u001b[0m\u001b[1;33m\u001b[0m\u001b[0m\n\u001b[0;32m    541\u001b[0m         \u001b[0my_true\u001b[0m \u001b[1;33m=\u001b[0m \u001b[0mlabel_binarize\u001b[0m\u001b[1;33m(\u001b[0m\u001b[0my_true\u001b[0m\u001b[1;33m,\u001b[0m \u001b[0mclasses\u001b[0m\u001b[1;33m=\u001b[0m\u001b[0mlabels\u001b[0m\u001b[1;33m)\u001b[0m\u001b[1;33m[\u001b[0m\u001b[1;33m:\u001b[0m\u001b[1;33m,\u001b[0m \u001b[1;36m0\u001b[0m\u001b[1;33m]\u001b[0m\u001b[1;33m\u001b[0m\u001b[1;33m\u001b[0m\u001b[0m\n\u001b[1;32m--> 542\u001b[1;33m         return _average_binary_score(partial(_binary_roc_auc_score,\n\u001b[0m\u001b[0;32m    543\u001b[0m                                              max_fpr=max_fpr),\n\u001b[0;32m    544\u001b[0m                                      \u001b[0my_true\u001b[0m\u001b[1;33m,\u001b[0m \u001b[0my_score\u001b[0m\u001b[1;33m,\u001b[0m \u001b[0maverage\u001b[0m\u001b[1;33m,\u001b[0m\u001b[1;33m\u001b[0m\u001b[1;33m\u001b[0m\u001b[0m\n",
      "\u001b[1;32mD:\\anaconda3\\lib\\site-packages\\sklearn\\metrics\\_base.py\u001b[0m in \u001b[0;36m_average_binary_score\u001b[1;34m(binary_metric, y_true, y_score, average, sample_weight)\u001b[0m\n\u001b[0;32m     75\u001b[0m \u001b[1;33m\u001b[0m\u001b[0m\n\u001b[0;32m     76\u001b[0m     \u001b[1;32mif\u001b[0m \u001b[0my_type\u001b[0m \u001b[1;33m==\u001b[0m \u001b[1;34m\"binary\"\u001b[0m\u001b[1;33m:\u001b[0m\u001b[1;33m\u001b[0m\u001b[1;33m\u001b[0m\u001b[0m\n\u001b[1;32m---> 77\u001b[1;33m         \u001b[1;32mreturn\u001b[0m \u001b[0mbinary_metric\u001b[0m\u001b[1;33m(\u001b[0m\u001b[0my_true\u001b[0m\u001b[1;33m,\u001b[0m \u001b[0my_score\u001b[0m\u001b[1;33m,\u001b[0m \u001b[0msample_weight\u001b[0m\u001b[1;33m=\u001b[0m\u001b[0msample_weight\u001b[0m\u001b[1;33m)\u001b[0m\u001b[1;33m\u001b[0m\u001b[1;33m\u001b[0m\u001b[0m\n\u001b[0m\u001b[0;32m     78\u001b[0m \u001b[1;33m\u001b[0m\u001b[0m\n\u001b[0;32m     79\u001b[0m     \u001b[0mcheck_consistent_length\u001b[0m\u001b[1;33m(\u001b[0m\u001b[0my_true\u001b[0m\u001b[1;33m,\u001b[0m \u001b[0my_score\u001b[0m\u001b[1;33m,\u001b[0m \u001b[0msample_weight\u001b[0m\u001b[1;33m)\u001b[0m\u001b[1;33m\u001b[0m\u001b[1;33m\u001b[0m\u001b[0m\n",
      "\u001b[1;32mD:\\anaconda3\\lib\\site-packages\\sklearn\\metrics\\_ranking.py\u001b[0m in \u001b[0;36m_binary_roc_auc_score\u001b[1;34m(y_true, y_score, sample_weight, max_fpr)\u001b[0m\n\u001b[0;32m    325\u001b[0m     \u001b[1;34m\"\"\"Binary roc auc score.\"\"\"\u001b[0m\u001b[1;33m\u001b[0m\u001b[1;33m\u001b[0m\u001b[0m\n\u001b[0;32m    326\u001b[0m     \u001b[1;32mif\u001b[0m \u001b[0mlen\u001b[0m\u001b[1;33m(\u001b[0m\u001b[0mnp\u001b[0m\u001b[1;33m.\u001b[0m\u001b[0munique\u001b[0m\u001b[1;33m(\u001b[0m\u001b[0my_true\u001b[0m\u001b[1;33m)\u001b[0m\u001b[1;33m)\u001b[0m \u001b[1;33m!=\u001b[0m \u001b[1;36m2\u001b[0m\u001b[1;33m:\u001b[0m\u001b[1;33m\u001b[0m\u001b[1;33m\u001b[0m\u001b[0m\n\u001b[1;32m--> 327\u001b[1;33m         raise ValueError(\"Only one class present in y_true. ROC AUC score \"\n\u001b[0m\u001b[0;32m    328\u001b[0m                          \"is not defined in that case.\")\n\u001b[0;32m    329\u001b[0m \u001b[1;33m\u001b[0m\u001b[0m\n",
      "\u001b[1;31mValueError\u001b[0m: Only one class present in y_true. ROC AUC score is not defined in that case."
     ]
    }
   ],
   "source": [
    "%%time\n",
    "\n",
    "params = {\n",
    "    'objective': 'binary',\n",
    "    'boosting_type': 'gbdt',\n",
    "    'metric': 'auc',\n",
    "    'n_jobs': -1,\n",
    "    'n_estimators': 5000,\n",
    "    'seed': 1,\n",
    "    'early_stopping_rounds': 200,\n",
    "    'learning_rate': 0.011256858463563033,\n",
    "    'lambda_l1': 1.874781296591587e-05, \n",
    "    'lambda_l2': 0.06378446666969453, \n",
    "    'num_leaves': 247, \n",
    "    'feature_fraction': 0.5632727860997702, \n",
    "    'bagging_fraction': 0.9454630708661762, \n",
    "    'bagging_freq': 7, \n",
    "    'min_child_samples': 38\n",
    "}\n",
    "\n",
    "scores = []\n",
    "\n",
    "feature_importances = pd.DataFrame()\n",
    "feature_importances['feature'] = df_train.columns.drop('isFraud')\n",
    "\n",
    "test_preds = []\n",
    "\n",
    "kf = KFold(n_splits=5)\n",
    "for train_index, test_index in kf.split(X_sm):\n",
    "    X_train, X_val = X_sm.iloc[train_index], X_sm.iloc[test_index]\n",
    "    y_train, y_val = y_sm.iloc[train_index], y_sm.iloc[test_index]\n",
    "# for i in range(len(folds_idx)):\n",
    "#     X_train = X_sm.drop(folds_idx[i], axis=0)\n",
    "#     y_train = X_train['isFraud'].values\n",
    "#     X_val = df_train.iloc[folds_idx[i]]\n",
    "#     y_val = X_val['isFraud'].values\n",
    "#     X_train = X_train.drop('isFraud', axis=1)\n",
    "#     X_val = X_val.drop('isFraud', axis=1)\n",
    "\n",
    "    lgb_train = lgb.Dataset(X_train, y_train)\n",
    "    lgb_eval = lgb.Dataset(X_val, y_val, reference=lgb_train)\n",
    "    lgb_model = lgb.train(params, lgb_train, valid_sets=lgb_eval, verbose_eval=100)\n",
    "    \n",
    "    feature_importances['fold_{}'.format(i)] = lgb_model.feature_importance()\n",
    "\n",
    "    y_pred = lgb_model.predict(X_val)\n",
    "    score_fold = roc_auc_score(y_val, y_pred)\n",
    "    scores.append(score_fold)\n",
    "    y_test_pred = lgb_model.predict(df_test)\n",
    "    test_preds.append(y_test_pred)\n",
    "\n",
    "for i in range(len(scores)):\n",
    "    print('Fold {}, AUC-ROC: {:.5f}'.format(i, scores[i]))\n",
    "print('CV AUC-ROC: {:.5f}'.format(np.mean(scores)))"
   ]
  },
  {
   "cell_type": "code",
   "execution_count": 92,
   "metadata": {
    "scrolled": true
   },
   "outputs": [
    {
     "data": {
      "text/plain": [
       "[array([8.21371161e-05, 2.89757537e-03, 2.65518624e-03, ...,\n",
       "        6.09509994e-04, 3.85540626e-03, 7.92025216e-04]),\n",
       " array([1.30028443e-05, 3.05056693e-03, 3.17304161e-04, ...,\n",
       "        1.27703556e-04, 2.29153817e-03, 3.53340584e-04]),\n",
       " array([8.93668737e-05, 8.38753834e-02, 6.71897337e-03, ...,\n",
       "        4.58213647e-04, 2.85262894e-03, 1.17783283e-03])]"
      ]
     },
     "execution_count": 92,
     "metadata": {},
     "output_type": "execute_result"
    }
   ],
   "source": [
    "# обучилось только 3 из 5 моделей, почему-то выдал ошибку, но да ладно\n",
    "test_preds"
   ]
  },
  {
   "cell_type": "code",
   "execution_count": 33,
   "metadata": {},
   "outputs": [],
   "source": [
    "sample_submission = pd.read_csv('sample_submission.csv')"
   ]
  },
  {
   "cell_type": "code",
   "execution_count": 93,
   "metadata": {
    "colab": {
     "base_uri": "https://localhost:8080/",
     "height": 501
    },
    "id": "MXeuS6E6pCLF",
    "outputId": "ca6245ca-b6e2-4005-9d1a-a03674e13dac"
   },
   "outputs": [],
   "source": [
    "final_pred = np.average(test_preds, axis=0)\n",
    "sub = pd.DataFrame({'TransactionID': sample_submission['TransactionID'], 'isFraud': final_pred})\n",
    "sub.to_csv('submission_baseline_fe.csv', index=False)\n",
    "\n",
    "# plt.figure(figsize=(11, 8))\n",
    "# plt.hist(sub['isFraud'], bins=30)\n",
    "# plt.title('Distribution of isFraud prediction on test')\n",
    "# plt.show()"
   ]
  },
  {
   "cell_type": "code",
   "execution_count": 94,
   "metadata": {
    "scrolled": true
   },
   "outputs": [
    {
     "data": {
      "text/html": [
       "<div>\n",
       "<style scoped>\n",
       "    .dataframe tbody tr th:only-of-type {\n",
       "        vertical-align: middle;\n",
       "    }\n",
       "\n",
       "    .dataframe tbody tr th {\n",
       "        vertical-align: top;\n",
       "    }\n",
       "\n",
       "    .dataframe thead th {\n",
       "        text-align: right;\n",
       "    }\n",
       "</style>\n",
       "<table border=\"1\" class=\"dataframe\">\n",
       "  <thead>\n",
       "    <tr style=\"text-align: right;\">\n",
       "      <th></th>\n",
       "      <th>TransactionID</th>\n",
       "      <th>isFraud</th>\n",
       "    </tr>\n",
       "  </thead>\n",
       "  <tbody>\n",
       "    <tr>\n",
       "      <th>0</th>\n",
       "      <td>3404559</td>\n",
       "      <td>0.000062</td>\n",
       "    </tr>\n",
       "    <tr>\n",
       "      <th>1</th>\n",
       "      <td>3404560</td>\n",
       "      <td>0.029941</td>\n",
       "    </tr>\n",
       "    <tr>\n",
       "      <th>2</th>\n",
       "      <td>3404561</td>\n",
       "      <td>0.003230</td>\n",
       "    </tr>\n",
       "    <tr>\n",
       "      <th>3</th>\n",
       "      <td>3404562</td>\n",
       "      <td>0.000232</td>\n",
       "    </tr>\n",
       "    <tr>\n",
       "      <th>4</th>\n",
       "      <td>3404563</td>\n",
       "      <td>0.660592</td>\n",
       "    </tr>\n",
       "    <tr>\n",
       "      <th>...</th>\n",
       "      <td>...</td>\n",
       "      <td>...</td>\n",
       "    </tr>\n",
       "    <tr>\n",
       "      <th>172976</th>\n",
       "      <td>3577535</td>\n",
       "      <td>0.000172</td>\n",
       "    </tr>\n",
       "    <tr>\n",
       "      <th>172977</th>\n",
       "      <td>3577536</td>\n",
       "      <td>0.002156</td>\n",
       "    </tr>\n",
       "    <tr>\n",
       "      <th>172978</th>\n",
       "      <td>3577537</td>\n",
       "      <td>0.000398</td>\n",
       "    </tr>\n",
       "    <tr>\n",
       "      <th>172979</th>\n",
       "      <td>3577538</td>\n",
       "      <td>0.003000</td>\n",
       "    </tr>\n",
       "    <tr>\n",
       "      <th>172980</th>\n",
       "      <td>3577539</td>\n",
       "      <td>0.000774</td>\n",
       "    </tr>\n",
       "  </tbody>\n",
       "</table>\n",
       "<p>172981 rows × 2 columns</p>\n",
       "</div>"
      ],
      "text/plain": [
       "        TransactionID   isFraud\n",
       "0             3404559  0.000062\n",
       "1             3404560  0.029941\n",
       "2             3404561  0.003230\n",
       "3             3404562  0.000232\n",
       "4             3404563  0.660592\n",
       "...               ...       ...\n",
       "172976        3577535  0.000172\n",
       "172977        3577536  0.002156\n",
       "172978        3577537  0.000398\n",
       "172979        3577538  0.003000\n",
       "172980        3577539  0.000774\n",
       "\n",
       "[172981 rows x 2 columns]"
      ]
     },
     "execution_count": 94,
     "metadata": {},
     "output_type": "execute_result"
    }
   ],
   "source": [
    "sub"
   ]
  },
  {
   "cell_type": "markdown",
   "metadata": {
    "id": "uvMzbolApFZM"
   },
   "source": [
    "Качество на паблике 0.9157 (roc-auc)"
   ]
  }
 ],
 "metadata": {
  "colab": {
   "collapsed_sections": [],
   "name": "fraud-baseline-lightgbm-fe.ipynb",
   "provenance": []
  },
  "kernelspec": {
   "display_name": "Python 3",
   "language": "python",
   "name": "python3"
  },
  "language_info": {
   "codemirror_mode": {
    "name": "ipython",
    "version": 3
   },
   "file_extension": ".py",
   "mimetype": "text/x-python",
   "name": "python",
   "nbconvert_exporter": "python",
   "pygments_lexer": "ipython3",
   "version": "3.8.3"
  }
 },
 "nbformat": 4,
 "nbformat_minor": 1
}
